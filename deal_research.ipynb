{
 "cells": [
  {
   "cell_type": "code",
   "execution_count": 11,
   "metadata": {},
   "outputs": [],
   "source": [
    "import pandas as pd\n",
    "import numpy as np\n",
    "import xlrd\n",
    "from matplotlib import pyplot as plt\n",
    "import seaborn as sns\n",
    "import datetime\n",
    "from datetime import timedelta\n",
    "\n",
    "###说明###\n",
    "# \n",
    "# 通过pd.set_option?可以查看这个方法怎么用，后续的所有操作方法一样不再赘述\n",
    "# 使用原则是需要用的数据整理出来后，进行处理操作时建议用新变量进行copy然后处理，防止数据混杂，也方便不同场景进行导出\n",
    "#\n",
    "#########\n",
    "\n",
    "# 基础配置（一般不需要动）\n",
    "pd.set_option('display.max_rows',None) # 让pandas展示全部数据（没这个配置会显示省略号）\n",
    "pd.set_option('display.max_column',None) # 让pandas展示全部数据（没这个配置会显示省略号）\n",
    "pd.set_option('display.max_colwidth',500) # 让特别长的字段内容全部展示（没这个配置会显示省略号）\n",
    "pd.set_option('display.width',200) # 让展示时不换行\n",
    "plt.rcParams['font.sans-serif'] = ['SimHei'] # 用来正常显示中文标签\n",
    "plt.rcParams['axes.unicode_minus'] = False # 用来正常显示负号\n",
    "file_path = 'deal_research.xlsx' # 最好是绝对路径\n",
    "save_file_path = 'deal_tmp.xlsx'\n",
    "\n",
    "# 千分位格式化函数\n",
    "def to_thousands_display(x):\n",
    "    if x != 'NaN':\n",
    "        return format(x,',')\n",
    "    "
   ]
  },
  {
   "cell_type": "code",
   "execution_count": null,
   "metadata": {},
   "outputs": [],
   "source": [
    "# 日期运算\n",
    "data = pd.read_excel(file_path)\n",
    "\n",
    "data[data['registe_time']>'2018-01-09']\n",
    "\n",
    "data['deal_registe_time']=data['registe_time']+timedelta(days=10)\n",
    "\n",
    "data['deal_registe_time']-data['registe_time']"
   ]
  },
  {
   "cell_type": "code",
   "execution_count": null,
   "metadata": {},
   "outputs": [],
   "source": []
  },
  {
   "cell_type": "code",
   "execution_count": null,
   "metadata": {},
   "outputs": [],
   "source": []
  }
 ],
 "metadata": {
  "kernelspec": {
   "display_name": "Python 3",
   "language": "python",
   "name": "python3"
  },
  "language_info": {
   "codemirror_mode": {
    "name": "ipython",
    "version": 3
   },
   "file_extension": ".py",
   "mimetype": "text/x-python",
   "name": "python",
   "nbconvert_exporter": "python",
   "pygments_lexer": "ipython3",
   "version": "3.6.5"
  }
 },
 "nbformat": 4,
 "nbformat_minor": 2
}
